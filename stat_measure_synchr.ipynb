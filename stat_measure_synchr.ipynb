{
 "cells": [
  {
   "cell_type": "code",
   "execution_count": 54,
   "metadata": {},
   "outputs": [],
   "source": [
    "import numpy as np\n",
    "import matplotlib.pyplot as plt\n",
    "from scipy.stats import rayleigh"
   ]
  },
  {
   "cell_type": "code",
   "execution_count": 55,
   "metadata": {},
   "outputs": [
    {
     "name": "stdout",
     "output_type": "stream",
     "text": [
      "Phase Angles: [900.0, 576.0, 539.9999999999999, 450.0]\n",
      "R-bar (Stability Measure): 0.7097753814110334\n"
     ]
    }
   ],
   "source": [
    "def convert_ITIs_to_phase_angles(ITIs):\n",
    "    phase_angles = []\n",
    "    for i in range(1, len(ITIs)):\n",
    "        # Calculate phase angle for each ITI\n",
    "        phase_angle = (ITIs[i] / ITIs[i-1]) * 360  # Convert to degrees\n",
    "        phase_angles.append(phase_angle)\n",
    "    return phase_angles\n",
    "\n",
    "def calculate_R_bar(phase_angles):\n",
    "    # Convert phase angles to radians\n",
    "    phase_angles_radians = np.deg2rad(phase_angles)\n",
    "    \n",
    "    # Calculate mean resultant length (R-bar)\n",
    "    R_bar = np.abs(np.mean(np.exp(1j * phase_angles_radians)))\n",
    "    \n",
    "    return R_bar\n",
    "\n",
    "# Example usage:\n",
    "ITIs = [0.4, 1, 1.6, 2.4, 3.0]  # Example ITI values in milliseconds\n",
    "phase_angles = convert_ITIs_to_phase_angles(ITIs)\n",
    "R_bar = calculate_R_bar(phase_angles)\n",
    "\n",
    "print(\"Phase Angles:\", phase_angles)\n",
    "print(\"R-bar (Stability Measure):\", R_bar)\n"
   ]
  },
  {
   "cell_type": "code",
   "execution_count": 56,
   "metadata": {},
   "outputs": [],
   "source": [
    "def replace_outliers_iqr(data):\n",
    "    Q1 = np.percentile(data, 25)\n",
    "    Q3 = np.percentile(data, 75)\n",
    "    IQR = Q3 - Q1\n",
    "    lower_bound = Q1 - 1.5 * IQR\n",
    "    upper_bound = Q3 + 1.5 * IQR\n",
    "\n",
    "    original_data = data.copy()\n",
    "\n",
    "    # Replace outliers with the nearest bound\n",
    "    data[data < lower_bound] = lower_bound\n",
    "    data[data > upper_bound] = upper_bound\n",
    "    \n",
    "    # plt.figure(figsize=(5, 5))\n",
    "    # plt.plot(original_data, label='Original Data', color='blue', marker='o', linestyle='--')\n",
    "    # plt.plot(data, label='Filtered Data', color='red', marker='o', linestyle='--')\n",
    "    # plt.title('Original vs Filtered Data')\n",
    "    # plt.xlabel('Index')\n",
    "    # plt.ylabel('Value')\n",
    "    # plt.legend()\n",
    "    # plt.grid(True)\n",
    "    # plt.show()\n",
    "\n",
    "    return data\n",
    "\n",
    "# Example usage:\n",
    "# time_series = np.array([1, 2, 3, 10, 5, 6, 7, 8, 9, 10])\n",
    "# filtered_series = remove_outliers_iqr(time_series)\n",
    "# print(\"Original time series:\", time_series)\n",
    "# print(\"Filtered time series without outliers:\", filtered_series)\n"
   ]
  },
  {
   "cell_type": "code",
   "execution_count": 57,
   "metadata": {},
   "outputs": [],
   "source": [
    "# Load tapping data from a file with moving average\n",
    "def load_tapping_data(file_path):\n",
    "    tapping_times = None\n",
    "    with open(file_path, \"r\") as file:\n",
    "        tapping_times = file.read()\n",
    "    time_points = []\n",
    "    for line in tapping_times.split('\\n'):\n",
    "        if line.strip():\n",
    "            time_points.append(float(line.split()[0]))\n",
    "\n",
    "    # select only after 45 seconds\n",
    "    time_points = [time for time in time_points if time > 45]\n",
    "\n",
    "    tapping_intervals = np.diff(time_points)\n",
    "    tapping_intervals = replace_outliers_iqr(tapping_intervals)\n",
    "\n",
    "    return tapping_intervals"
   ]
  },
  {
   "cell_type": "code",
   "execution_count": 58,
   "metadata": {},
   "outputs": [
    {
     "name": "stdout",
     "output_type": "stream",
     "text": [
      "['duet/task1/timestamps_Prakul_C.txt', 'duet/task2/timestamps_Shiven_C.txt', 'duet/task3/timestamps_Poorvi_B.txt', 'duet/task4/timestamps_Shiven_A.txt']\n"
     ]
    }
   ],
   "source": [
    "task_ids = ['A','B','C','D']\n",
    "# participant, the overlayee\n",
    "bpms = {'A':[109,109], 'B':[122,109], 'C':[122,51], 'D':[51,122]}\n",
    "\n",
    "source_file_path = '/home/anika/Desktop/MMT/data_handling/duet/Ujjwal_files_used.txt'\n",
    "\n",
    "# Read the text file\n",
    "with open('duet/Ujjwal_files_used.txt', 'r') as file:\n",
    "    lines = file.readlines()\n",
    "\n",
    "# Define a dictionary to map timestamps to corresponding letters\n",
    "letter_mapping = {'C': 'C', 'B': 'B', 'A': 'A'}\n",
    "\n",
    "# Initialize an empty list to store the formatted filenames\n",
    "formatted_filenames = []\n",
    "\n",
    "line_no=1\n",
    "# Iterate through each line in the file\n",
    "for line in lines:\n",
    "    # Split the line by underscores\n",
    "    parts = line.strip().split('_')\n",
    "\n",
    "    # Extract relevant information\n",
    "    name = parts[0]  # Name of the person\n",
    "    timestamp = parts[1]  # Timestamps\n",
    "    letter = parts[2]  # Letter\n",
    "    extension = parts[3]  # File extension\n",
    "\n",
    "    # Construct the formatted filename\n",
    "    formatted_filename = f'duet/task{line_no}/timestamps_{name}_{letter_mapping[letter]}.txt'\n",
    "\n",
    "    # Append the formatted filename to the list\n",
    "    formatted_filenames.append(formatted_filename)\n",
    "\n",
    "    line_no = line_no +1\n",
    "\n",
    "print(formatted_filenames)"
   ]
  },
  {
   "cell_type": "code",
   "execution_count": 59,
   "metadata": {},
   "outputs": [
    {
     "name": "stdout",
     "output_type": "stream",
     "text": [
      "Stability measure: A : 0.8850906817891662\n",
      "Stability measure: B : 0.7998102214641798\n",
      "Stability measure: C : 0.6837774846822493\n",
      "Stability measure: D : 0.8234038414017093\n"
     ]
    }
   ],
   "source": [
    "song_ids = ['A','B','C','D']\n",
    "file_paths = [f'duet/Ujjwal_files/timestamps_Ujjwal_{song_id}.txt' for song_id in song_ids]\n",
    "\n",
    "for song_id, file_path, formatted_filename in zip(song_ids, file_paths, formatted_filenames):\n",
    "    tapping_intervals_tapee = load_tapping_data(file_path)\n",
    "    phase_angles_tapee = convert_ITIs_to_phase_angles(tapping_intervals_tapee)\n",
    "\n",
    "    tapping_intervals_overlayee = load_tapping_data(formatted_filename)\n",
    "    phase_angles_overlayee = convert_ITIs_to_phase_angles(tapping_intervals_overlayee)\n",
    "\n",
    "    angle_diff = []\n",
    "    for i in range(min(len(phase_angles_overlayee),len(phase_angles_tapee))):\n",
    "        angle_diff.append(phase_angles_overlayee[i] - phase_angles_tapee[i])\n",
    "\n",
    "    R_bar = calculate_R_bar(angle_diff)\n",
    "\n",
    "    print(f\"Stability measure: {song_id} : {R_bar}\")"
   ]
  }
 ],
 "metadata": {
  "kernelspec": {
   "display_name": "ML",
   "language": "python",
   "name": "python3"
  },
  "language_info": {
   "codemirror_mode": {
    "name": "ipython",
    "version": 3
   },
   "file_extension": ".py",
   "mimetype": "text/x-python",
   "name": "python",
   "nbconvert_exporter": "python",
   "pygments_lexer": "ipython3",
   "version": "3.11.4"
  }
 },
 "nbformat": 4,
 "nbformat_minor": 2
}
