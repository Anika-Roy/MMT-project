{
 "cells": [
  {
   "cell_type": "code",
   "execution_count": 115,
   "metadata": {},
   "outputs": [],
   "source": [
    "import numpy as np\n",
    "import matplotlib.pyplot as plt"
   ]
  },
  {
   "cell_type": "code",
   "execution_count": 116,
   "metadata": {},
   "outputs": [],
   "source": [
    "def replace_outliers_iqr(data):\n",
    "    Q1 = np.percentile(data, 25)\n",
    "    Q3 = np.percentile(data, 75)\n",
    "    IQR = Q3 - Q1\n",
    "    lower_bound = Q1 - 1.5 * IQR\n",
    "    upper_bound = Q3 + 1.5 * IQR\n",
    "\n",
    "    original_data = data.copy()\n",
    "\n",
    "    # Replace outliers with the nearest bound\n",
    "    data[data < lower_bound] = lower_bound\n",
    "    data[data > upper_bound] = upper_bound\n",
    "    \n",
    "    # plt.figure(figsize=(5, 5))\n",
    "    # plt.plot(original_data, label='Original Data', color='blue', marker='o', linestyle='--')\n",
    "    # plt.plot(data, label='Filtered Data', color='red', marker='o', linestyle='--')\n",
    "    # plt.title('Original vs Filtered Data')\n",
    "    # plt.xlabel('Index')\n",
    "    # plt.ylabel('Value')\n",
    "    # plt.legend()\n",
    "    # plt.grid(True)\n",
    "    # plt.show()\n",
    "\n",
    "    return data\n",
    "\n",
    "# Example usage:\n",
    "# time_series = np.array([1, 2, 3, 10, 5, 6, 7, 8, 9, 10])\n",
    "# filtered_series = remove_outliers_iqr(time_series)\n",
    "# print(\"Original time series:\", time_series)\n",
    "# print(\"Filtered time series without outliers:\", filtered_series)\n"
   ]
  },
  {
   "cell_type": "code",
   "execution_count": 117,
   "metadata": {},
   "outputs": [],
   "source": [
    "# def remove_outlier(time_points):"
   ]
  },
  {
   "cell_type": "code",
   "execution_count": 118,
   "metadata": {},
   "outputs": [],
   "source": [
    "# Load tapping data from a file with moving average\n",
    "def load_tapping_data(file_path):\n",
    "    tapping_times = None\n",
    "    with open(file_path, \"r\") as file:\n",
    "        tapping_times = file.read()\n",
    "    time_points = []\n",
    "    for line in tapping_times.split('\\n'):\n",
    "        if line.strip():\n",
    "            time_points.append(float(line.split()[0]))\n",
    "\n",
    "    # Divide timestamps into three lists based on their duration\n",
    "    synchr_0_15 = []\n",
    "    cont_music_15_45 = []\n",
    "    cont_no_music_45_75 = []\n",
    "\n",
    "    for data in time_points:\n",
    "        if data < 15:\n",
    "            synchr_0_15.append(data)\n",
    "        elif data < 45:\n",
    "            cont_music_15_45.append(data)\n",
    "        else:\n",
    "            cont_no_music_45_75.append(data)\n",
    "\n",
    "    tapping_intervals = [np.diff(synchr_0_15),np.diff(cont_music_15_45),np.diff(cont_no_music_45_75)]\n",
    "\n",
    "    for i in range(len(tapping_intervals)):\n",
    "        tapping_intervals[i] = replace_outliers_iqr(tapping_intervals[i])\n",
    "\n",
    "    return tapping_intervals"
   ]
  },
  {
   "cell_type": "code",
   "execution_count": 119,
   "metadata": {},
   "outputs": [
    {
     "name": "stdout",
     "output_type": "stream",
     "text": [
      "tempo_change_cont_music : A : 1.118333333333041\n",
      "tempo_change_cont_no_music : A : 4.026000000000008\n",
      "tempo_change_total : A : 7.604666666666427\n",
      "tempo_change_cont_music : B : -2.6116250000000285\n",
      "tempo_change_cont_no_music : B : 2.3204999999999143\n",
      "tempo_change_total : B : 8.625374999999998\n",
      "tempo_change_cont_music : C : -1.871166666666521\n",
      "tempo_change_cont_no_music : C : -0.6267500000000923\n",
      "tempo_change_total : C : 0.8447500000001288\n"
     ]
    }
   ],
   "source": [
    "song_ids = ['A','B','C']\n",
    "bpms = {'A':122, 'B':51, 'C':109}\n",
    "file_paths = [f'./timestamp_files/timestamps_Mihika_{song_id}.txt' for song_id in song_ids]\n",
    "\n",
    "for song_id, file_path in zip(song_ids, file_paths):\n",
    "    tapping_intervals = load_tapping_data(file_path)\n",
    "\n",
    "    # Compute tempo change percent in music cont\n",
    "    tempo_change_cont_music = (np.mean((tapping_intervals[1])[-10:]) - np.mean((tapping_intervals[1])[:10]))*100/(60/bpms[song_id])\n",
    "\n",
    "    # Compute tempo change percent in music cont\n",
    "    tempo_change_cont_no_music = (np.mean((tapping_intervals[2])[-10:]) - np.mean((tapping_intervals[2])[:10]))*100/(60/bpms[song_id])\n",
    "\n",
    "    # Compute tempo change percent in music cont\n",
    "    tempo_change_total= (np.mean((tapping_intervals[2])[-10:]) - np.mean((tapping_intervals[1])[:10]))*100/(60/bpms[song_id])\n",
    "\n",
    "    print(f\"tempo_change_cont_music : {song_id} : {tempo_change_cont_music}\")\n",
    "    print(f\"tempo_change_cont_no_music : {song_id} : {tempo_change_cont_no_music}\")\n",
    "    print(f\"tempo_change_total : {song_id} : {tempo_change_total}\")\n"
   ]
  }
 ],
 "metadata": {
  "kernelspec": {
   "display_name": "ML",
   "language": "python",
   "name": "python3"
  },
  "language_info": {
   "codemirror_mode": {
    "name": "ipython",
    "version": 3
   },
   "file_extension": ".py",
   "mimetype": "text/x-python",
   "name": "python",
   "nbconvert_exporter": "python",
   "pygments_lexer": "ipython3",
   "version": "3.11.4"
  }
 },
 "nbformat": 4,
 "nbformat_minor": 2
}
