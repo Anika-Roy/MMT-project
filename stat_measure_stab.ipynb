{
 "cells": [
  {
   "cell_type": "code",
   "execution_count": 68,
   "metadata": {},
   "outputs": [],
   "source": [
    "import numpy as np\n",
    "import matplotlib.pyplot as plt\n",
    "from scipy.stats import rayleigh"
   ]
  },
  {
   "cell_type": "code",
   "execution_count": 69,
   "metadata": {},
   "outputs": [],
   "source": [
    "def convert_ITIs_to_phase_angles(ITIs):\n",
    "    phase_angles = []\n",
    "    for i in range(1, len(ITIs)):\n",
    "        # Calculate phase angle for each ITI\n",
    "        phase_angle = (ITIs[i] / ITIs[i-1]) * 360  # Convert to degrees\n",
    "        phase_angles.append(phase_angle)\n",
    "    return phase_angles\n",
    "\n",
    "def calculate_R_bar(phase_angles):\n",
    "    # Convert phase angles to radians\n",
    "    phase_angles_radians = np.deg2rad(phase_angles)\n",
    "    \n",
    "    # Calculate mean resultant length (R-bar)\n",
    "    R_bar = np.abs(np.mean(np.exp(1j * phase_angles_radians)))\n",
    "    \n",
    "    return R_bar\n",
    "\n",
    "# Example usage:\n",
    "# ITIs = [0.4, 1, 1.6, 2.4, 3.0]  # Example ITI values in milliseconds\n",
    "# phase_angles = convert_ITIs_to_phase_angles(ITIs)\n",
    "# R_bar = calculate_R_bar(phase_angles)\n",
    "\n",
    "# print(\"Phase Angles:\", phase_angles)\n",
    "# print(\"R-bar (Stability Measure):\", R_bar)\n"
   ]
  },
  {
   "cell_type": "code",
   "execution_count": 70,
   "metadata": {},
   "outputs": [],
   "source": [
    "def replace_outliers_iqr(data):\n",
    "    Q1 = np.percentile(data, 25)\n",
    "    Q3 = np.percentile(data, 75)\n",
    "    IQR = Q3 - Q1\n",
    "    lower_bound = Q1 - 1.5 * IQR\n",
    "    upper_bound = Q3 + 1.5 * IQR\n",
    "\n",
    "    original_data = data.copy()\n",
    "\n",
    "    # Replace outliers with the nearest bound\n",
    "    data[data < lower_bound] = lower_bound\n",
    "    data[data > upper_bound] = upper_bound\n",
    "    \n",
    "    # plt.figure(figsize=(5, 5))\n",
    "    # plt.plot(original_data, label='Original Data', color='blue', marker='o', linestyle='--')\n",
    "    # plt.plot(data, label='Filtered Data', color='red', marker='o', linestyle='--')\n",
    "    # plt.title('Original vs Filtered Data')\n",
    "    # plt.xlabel('Index')\n",
    "    # plt.ylabel('Value')\n",
    "    # plt.legend()\n",
    "    # plt.grid(True)\n",
    "    # plt.show()\n",
    "\n",
    "    return data\n",
    "\n",
    "# Example usage:\n",
    "# time_series = np.array([1, 2, 3, 10, 5, 6, 7, 8, 9, 10])\n",
    "# filtered_series = remove_outliers_iqr(time_series)\n",
    "# print(\"Original time series:\", time_series)\n",
    "# print(\"Filtered time series without outliers:\", filtered_series)\n"
   ]
  },
  {
   "cell_type": "code",
   "execution_count": 71,
   "metadata": {},
   "outputs": [],
   "source": [
    "# def remove_outlier(time_points):"
   ]
  },
  {
   "cell_type": "code",
   "execution_count": 72,
   "metadata": {},
   "outputs": [],
   "source": [
    "# Load tapping data from a file with moving average\n",
    "def load_tapping_data(file_path):\n",
    "    tapping_times = None\n",
    "    with open(file_path, \"r\") as file:\n",
    "        tapping_times = file.read()\n",
    "    time_points = []\n",
    "    for line in tapping_times.split('\\n'):\n",
    "        if line.strip():\n",
    "            time_points.append(float(line.split()[0]))\n",
    "\n",
    "    tapping_intervals = np.diff(time_points)\n",
    "    tapping_intervals = replace_outliers_iqr(tapping_intervals)\n",
    "\n",
    "    return tapping_intervals"
   ]
  },
  {
   "cell_type": "code",
   "execution_count": 73,
   "metadata": {},
   "outputs": [
    {
     "name": "stdout",
     "output_type": "stream",
     "text": [
      "Stability measure: A : 0.7622201652549653\n",
      "Stability measure: B : 0.6888115404199716\n",
      "Stability measure: C : 0.8007627412328094\n"
     ]
    }
   ],
   "source": [
    "song_ids = ['A','B','C']\n",
    "bpms = {'A':122, 'B':51, 'C':109}\n",
    "file_paths = [f'./timestamp_files/timestamps_Amey_{song_id}.txt' for song_id in song_ids]\n",
    "\n",
    "for song_id, file_path in zip(song_ids, file_paths):\n",
    "    tapping_intervals = load_tapping_data(file_path)\n",
    "\n",
    "    phase_angles = convert_ITIs_to_phase_angles(tapping_intervals)\n",
    "    R_bar = calculate_R_bar(phase_angles)\n",
    "\n",
    "    print(f\"Stability measure: {song_id} : {R_bar}\")\n"
   ]
  }
 ],
 "metadata": {
  "kernelspec": {
   "display_name": "ML",
   "language": "python",
   "name": "python3"
  },
  "language_info": {
   "codemirror_mode": {
    "name": "ipython",
    "version": 3
   },
   "file_extension": ".py",
   "mimetype": "text/x-python",
   "name": "python",
   "nbconvert_exporter": "python",
   "pygments_lexer": "ipython3",
   "version": "3.11.4"
  }
 },
 "nbformat": 4,
 "nbformat_minor": 2
}
